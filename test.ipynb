{
 "cells": [
  {
   "cell_type": "code",
   "execution_count": 51,
   "metadata": {},
   "outputs": [],
   "source": [
    "import requests\n",
    "import pandas as pd\n",
    "session=requests.session()\n",
    "       \n",
    "session.headers[\"User-Agent\"]=\"Mozilla/5.0 (Windows NT 10.0; Win64; x64) AppleWebKit/537.36 (KHTML, like Gecko) Chrome/96.0.4664.45 Safari/537.36\"\n"
   ]
  },
  {
   "cell_type": "code",
   "execution_count": 60,
   "metadata": {},
   "outputs": [],
   "source": [
    "resp=session.get('https://okcountyrecords.com/results/name=BOOMSLANG/page-1')"
   ]
  },
  {
   "cell_type": "markdown",
   "metadata": {},
   "source": [
    "session"
   ]
  },
  {
   "cell_type": "code",
   "execution_count": 62,
   "metadata": {},
   "outputs": [
    {
     "data": {
      "text/plain": [
       "{'User-Agent': 'Mozilla/5.0 (Windows NT 10.0; Win64; x64) AppleWebKit/537.36 (KHTML, like Gecko) Chrome/96.0.4664.45 Safari/537.36', 'Accept-Encoding': 'gzip, deflate', 'Accept': '*/*', 'Connection': 'keep-alive'}"
      ]
     },
     "execution_count": 62,
     "metadata": {},
     "output_type": "execute_result"
    }
   ],
   "source": [
    "session.headers"
   ]
  },
  {
   "cell_type": "code",
   "execution_count": 57,
   "metadata": {},
   "outputs": [
    {
     "data": {
      "text/plain": [
       "{'User-Agent': 'Mozilla/5.0 (Windows NT 10.0; Win64; x64) AppleWebKit/537.36 (KHTML, like Gecko) Chrome/96.0.4664.45 Safari/537.36', 'Accept-Encoding': 'gzip, deflate', 'Accept': '*/*', 'Connection': 'keep-alive'}"
      ]
     },
     "execution_count": 57,
     "metadata": {},
     "output_type": "execute_result"
    }
   ],
   "source": [
    "session.headers"
   ]
  },
  {
   "cell_type": "code",
   "execution_count": 55,
   "metadata": {},
   "outputs": [],
   "source": [
    "\n",
    "\n",
    "\n",
    "def SearchWebsite(company,party_type=\"grantee\"):\n",
    "       \n",
    "        dfs=[]\n",
    "        i=1\n",
    "        query=\"https://okcountyrecords.com/results/name=\" + str(company).replace(\" \",\"+\") + \"/recorded_date=asc:site_id=asc:instrument_link=asc/page-\" + str(i)\n",
    "        print(query)\n",
    "        res =session.get(query)\n",
    "        if res.ok:\n",
    "                #dfList=pd.read_html(res.content)\n",
    "                #rows=res.text\n",
    "                print(company + \",\" + str(res.text))\n",
    "        else:\n",
    "                print(res.status_code)\n",
    "                \n",
    "       # df=dfList[0]\n",
    "        #df[\"company\"]=company\n",
    "       # df[\"party_type\"]=party_type\n",
    "        \n",
    "       # df[\"url\"]= \"https://okcountyrecords.com/detail/\" + df[\"County\"] + \"/\" + df[\"Instrument\"]\n",
    "       # df[\"InstrumentID\"]=df[\"County\"] + \"-\" + df[\"Instrument\"]\n",
    "        #df.set_index(\"id\",inplace=True)"
   ]
  },
  {
   "cell_type": "code",
   "execution_count": 56,
   "metadata": {},
   "outputs": [
    {
     "name": "stdout",
     "output_type": "stream",
     "text": [
      "https://okcountyrecords.com/results/name=BOOMSLANG/recorded_date=asc:site_id=asc:instrument_link=asc/page-1\n",
      "500\n"
     ]
    }
   ],
   "source": [
    "SearchWebsite('BOOMSLANG')"
   ]
  },
  {
   "cell_type": "code",
   "execution_count": null,
   "metadata": {},
   "outputs": [],
   "source": []
  }
 ],
 "metadata": {
  "kernelspec": {
   "display_name": "Python 3",
   "language": "python",
   "name": "python3"
  },
  "language_info": {
   "codemirror_mode": {
    "name": "ipython",
    "version": 3
   },
   "file_extension": ".py",
   "mimetype": "text/x-python",
   "name": "python",
   "nbconvert_exporter": "python",
   "pygments_lexer": "ipython3",
   "version": "3.10.8"
  },
  "orig_nbformat": 4
 },
 "nbformat": 4,
 "nbformat_minor": 2
}
