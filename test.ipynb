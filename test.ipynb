{
 "cells": [
  {
   "cell_type": "code",
   "execution_count": 27,
   "metadata": {},
   "outputs": [
    {
     "data": {
      "text/plain": [
       "b'<!DOCTYPE html><html\\nlang=\"en\"><head><meta\\nhttp-equiv=\"X-UA-Compatible\" content=\"IE=EDGE; IE=11; IE=10;\"><meta\\ncharset=\"utf-8\"><meta\\nname=\"viewport\" content=\"width=device-width, initial-scale=1\"><meta\\nname=\"format-detection\" content=\"telephone=no\"><title>Something went wrong | OKCountyRecords.com | County Clerk Public Land Records for Oklahoma</title><link\\nrel=\"icon\" type=\"image/png\" href=\"/favicon.png\"><link\\nhref=\"/styles/compiled/bust_g01098f1-a253-47d7-bced-3197563c2kd7_screen.css\" media=\"screen\" rel=\"stylesheet\" type=\"text/css\"><link\\nhref=\"/styles/compiled/bust_g01098f1-a253-47d7-bced-3197563c2kd7_print.css\" media=\"print\" rel=\"stylesheet\" type=\"text/css\"><link\\nhref=\"/styles/libraries/chosen.min.css\" rel=\"stylesheet\"> <script>(function (i, s, o, g, r, a, m) {\\n\\t\\t\\ti[\\'GoogleAnalyticsObject\\'] = r;\\n\\t\\t\\ti[r] = i[r] || function () {\\n\\t\\t\\t\\t(i[r].q = i[r].q || []).push(arguments)\\n\\t\\t\\t}, i[r].l = 1 * new Date();\\n\\t\\t\\ta = s.createElement(o),\\n\\t\\t\\t\\t\\tm = s.getElementsByTagName(o)[0];\\n\\t\\t\\ta.async = 1;\\n\\t\\t\\ta.src = g;\\n\\t\\t\\tm.parentNode.insertBefore(a, m)\\n\\t\\t})(window, document, \\'script\\', \\'//www.google-analytics.com/analytics.js\\', \\'ga\\');\\n\\t\\tga(\\'create\\', \\'UA-2036786-2\\', \\'auto\\');\\n\\t\\tga(\\'send\\', \\'pageview\\');</script> <script>var _prum = [[\\'id\\', \\'52b06871abe53dd46e000000\\'],\\n\\t\\t\\t[\\'mark\\', \\'firstbyte\\', (new Date()).getTime()]];\\n\\t\\t(function () {\\n\\t\\t\\tvar s = document.getElementsByTagName(\\'script\\')[0], p = document.createElement(\\'script\\');\\n\\t\\t\\tp.async = \\'async\\';\\n\\t\\t\\tp.src = \\'//rum-static.pingdom.net/prum.min.js\\';\\n\\t\\t\\ts.parentNode.insertBefore(p, s);\\n\\t\\t})();</script> <!--[if lt IE 9]> <script src=\"/javascripts/ie/html5shiv.js\"></script> <script src=\"/javascripts/ie/respond.js\"></script> <![endif]--></head><body><section\\nid=\"envelope\"><header\\nid=\"site-header\" role=\"banner\" ><div\\nclass=\"site-notice\"><p>The data and images hosted on this website do not belong to KellPro. All data and images belong to the respective county clerk offices.</p></div>\\n<!--[if lt IE 9]><div\\nclass=\"old-browser-notice\"><p>You are using an old version of Internet Explorer which is unsupported. Some features will not work correctly. Please upgrade to a\\n<a\\nhref=\"http://whatbrowser.org\">modern browser</a>.</p></div>\\n<![endif]-->\\n<noscript><div\\nid=\"no-javascript-notice\"><p>\\nJavascript appears to be disabled in your browser.\\nPlease make sure that you\\n<a\\nhref=\"http://www.enable-javascript.com/\">enable javascript</a> to ensure you have the best experience possible.</p></div>\\n</noscript><section\\nid=\"user-navigation\"><div\\nid=\"user-naviagation-wrapper\" class=\"content-section\"><ul\\nid=\"user-navigation-search\"><li>\\n<a\\nhref=\"/\" title=\"Begin a new search\">New search</a></li></ul><ul\\nid=\"user-navigation-account\"><li><a\\nhref=\"/account/login\" title=\"Log in to your account\">Log in</a></li></ul></div></section><div\\nid=\"header-wrapper\" class=\"content-section\"><div\\nid=\"logo\"><h1>\\n<a\\nhref=\"/\">\\n<img\\nalt=\"OKCountyRecords.com\" src=\"/images/logos/logo.png\" width=\"371\" height=\"83\">\\n</a></h1></div><nav\\nid=\"site-navigation\"><ul><li\\nclass=\"primary-item\"><a\\nhref=\"/real-time\" title=\"Stream of new images\">Real-time</a></li><li\\nclass=\"primary-item\"><a\\nhref=\"/help\" title=\"Get help\">Help</a></li><li\\nclass=\"primary-item\"><a\\nhref=\"/pricing\" title=\"View our plans &amp; pricing\">Pricing</a></li></ul></nav></div>\\n<img\\nsrc=\"/assets-indicator\" style=\"display: none\"></header><section\\nid=\"exception\" class=\"content content-section\"><h1>Something has gone wrong</h1><p>\\nWe encountered an error, and it may be temporary.\\nPlease wait a few moments and\\n<a\\nhref=\"\">try again</a> or reload this page.</p></section><footer>\\n<a\\nhref=\"/pricing\" id=\"footer-call-to-action\"><div\\nclass=\"content\">\\n<span\\nid=\"footer-call-to-action-impact\">\\nResearch smarter.\\n<span\\nclass=\"important\">Plans starting at $10</span>\\n</span>\\nView scanned land records online. <span\\nid=\"footer-fake-link\">Get Started</span>.</div>\\n</a><div\\nid=\"footer-site-map\" class=\"content\"><div\\nclass=\"footer-site-map-section\"><h3>OKCountyRecords.com</h3><ul><li><a\\nhref=\"/\">Home</a></li><li><a\\nhref=\"/real-time\">Real-Time</a></li><li><a\\nhref=\"/terms\">Terms of Service</a></li><li><a\\nhref=\"/privacy\">Privacy Policy</a></li></ul></div><div\\nclass=\"footer-site-map-section\"><h3>Help</h3><ul><li><a\\nhref=\"/pricing\">Pricing</a></li><li><a\\nhref=\"/help\">Contact Us</a></li><li><a\\nhref=\"/api/v1/documentation\">API</a></li></ul></div></div><div\\nid=\"footer-copyright\" class=\"content content-section\">\\nService provided by <a\\nhref=\"http://kellpro.com\">KellPro, Inc.</a></div></footer></section><!--[if gt IE 8]><!--> <script src=\"/javascripts/head.load.min.js\"></script> <script type=\"text/javascript\">head.js(\\'/javascripts/jquery-2.1.1.min.js\\',\\n\\t\\t\\t\\'/javascripts/build/bust_g01098f1-a253-47d7-bced-3197563c2kd7_application.min.js\\',\\n\\t\\t\\tfunction () {\\n\\t\\t\\t\\tapplication.initiate();\\n\\t\\t\\t});</script> <!--<![endif]--></body></html>'"
      ]
     },
     "execution_count": 27,
     "metadata": {},
     "output_type": "execute_result"
    }
   ],
   "source": [
    "import requests\n",
    "import pandas as pd\n",
    "session=requests.session()\n",
    "session.headers.clear()\n",
    "url=\"https://sway.office.com/6AAOtP7JUlqZwpE0\"\n",
    "url=\"https://okcountyrecords.com/results/name=BOOMSLANG/recorded_date=asc:site_id=asc:instrument_link=asc/page-1\"\n",
    "session.headers[\"User-Agent\"]=\"Mozilla/5.0 (Windows NT 10.0; Win64; x64) AppleWebKit/537.36 (KHTML, like Gecko) Chrome/96.0.4664.45 Safari/537.36\"\n",
    "#session.headers[\"session\"]\n",
    "#session.headers[\"Content-Type\"]=\"text/html; charset=utf-8\"\n",
    "resp=session.get(url)\n",
    "resp.content"
   ]
  },
  {
   "cell_type": "code",
   "execution_count": 23,
   "metadata": {},
   "outputs": [
    {
     "data": {
      "text/plain": [
       "{'Server': 'nginx/1.25.1', 'Date': 'Wed, 20 Sep 2023 00:42:49 GMT', 'Content-Type': 'text/html; charset=utf-8', 'Transfer-Encoding': 'chunked', 'Connection': 'keep-alive', 'Set-Cookie': 'PHPSESSID=9pr40vsdn56pro0kj3jtisfve8; path=/', 'Expires': 'Thu, 19 Nov 1981 08:52:00 GMT', 'Cache-Control': 'no-store, no-cache, must-revalidate', 'Pragma': 'no-cache'}"
      ]
     },
     "execution_count": 23,
     "metadata": {},
     "output_type": "execute_result"
    }
   ],
   "source": [
    "#'okcountyrecords.com/results/name=BOOMSLANG/page-1')\n",
    "resp.headers\n"
   ]
  },
  {
   "cell_type": "markdown",
   "metadata": {},
   "source": [
    "session"
   ]
  },
  {
   "cell_type": "code",
   "execution_count": 12,
   "metadata": {},
   "outputs": [
    {
     "data": {
      "text/plain": [
       "<Response [500]>"
      ]
     },
     "execution_count": 12,
     "metadata": {},
     "output_type": "execute_result"
    }
   ],
   "source": [
    "resp"
   ]
  },
  {
   "cell_type": "code",
   "execution_count": 26,
   "metadata": {},
   "outputs": [
    {
     "data": {
      "text/plain": [
       "{'User-Agent': 'Mozilla/5.0 (Windows NT 10.0; Win64; x64) AppleWebKit/537.36 (KHTML, like Gecko) Chrome/96.0.4664.45 Safari/537.36'}"
      ]
     },
     "execution_count": 26,
     "metadata": {},
     "output_type": "execute_result"
    }
   ],
   "source": [
    "session.headers"
   ]
  },
  {
   "cell_type": "code",
   "execution_count": 55,
   "metadata": {},
   "outputs": [],
   "source": [
    "\n",
    "\n",
    "\n",
    "def SearchWebsite(company,party_type=\"grantee\"):\n",
    "       \n",
    "        dfs=[]\n",
    "        i=1\n",
    "        query=\"https://okcountyrecords.com/results/name=\" + str(company).replace(\" \",\"+\") + \"/recorded_date=asc:site_id=asc:instrument_link=asc/page-\" + str(i)\n",
    "        print(query)\n",
    "        res =session.get(query)\n",
    "        if res.ok:\n",
    "                #dfList=pd.read_html(res.content)\n",
    "                #rows=res.text\n",
    "                print(company + \",\" + str(res.text))\n",
    "        else:\n",
    "                print(res.status_code)\n",
    "                \n",
    "       # df=dfList[0]\n",
    "        #df[\"company\"]=company\n",
    "       # df[\"party_type\"]=party_type\n",
    "        \n",
    "       # df[\"url\"]= \"https://okcountyrecords.com/detail/\" + df[\"County\"] + \"/\" + df[\"Instrument\"]\n",
    "       # df[\"InstrumentID\"]=df[\"County\"] + \"-\" + df[\"Instrument\"]\n",
    "        #df.set_index(\"id\",inplace=True)"
   ]
  },
  {
   "cell_type": "code",
   "execution_count": 56,
   "metadata": {},
   "outputs": [
    {
     "name": "stdout",
     "output_type": "stream",
     "text": [
      "https://okcountyrecords.com/results/name=BOOMSLANG/recorded_date=asc:site_id=asc:instrument_link=asc/page-1\n",
      "500\n"
     ]
    }
   ],
   "source": [
    "SearchWebsite('BOOMSLANG')"
   ]
  },
  {
   "cell_type": "code",
   "execution_count": null,
   "metadata": {},
   "outputs": [],
   "source": [
    "urlMD=\"https://okcountyrecords.com/results/instrument-type=Correct+Mineral+Deed%7CMineral+Deed:recorded-start=2014-01-01:recorded-end=2016-09-30:legal=S33+T6N+R5W:site=grady/recorded_date=desc:site_id=desc:instrument_link=desc/page-1\"\n",
    "\n",
    "url_geo=\"https://okcountyrecords.com/results/recorded-start=2014-01-01:recorded-end=2016-09-30:legal=S33+T6N+R5W:site=grady/recorded_date=desc:site_id=desc:instrument_link=desc/page-{}\"\n",
    "url_geo=\"https://okcountyrecords.com/results/instrument-type=Correct+Mineral+Deed%7CMineral+Deed:recorded-start=2014-01-01:recorded-end=2016-09-30:legal=S33+T6N+R5W:site=grady/recorded_date=desc:site_id=desc:instrument_link=desc/page-1\"\n",
    "\n",
    "url_geo_detail=\"https://okcountyrecords.com/results/recorded-start=2014-01-01:recorded-end=2016-09-30:legal=S33+T6N+R5W:site=grady/page-1\""
   ]
  },
  {
   "cell_type": "code",
   "execution_count": 3,
   "metadata": {},
   "outputs": [
    {
     "data": {
      "text/plain": [
       "'https://okcountyrecords.com/results/recorded-start=2014-01-01:recorded-end=2016-09-30:legal=S33+T6N+R5W:site=grady/recorded_date=desc:site_id=desc:instrument_link=desc/page-1'"
      ]
     },
     "execution_count": 3,
     "metadata": {},
     "output_type": "execute_result"
    }
   ],
   "source": [
    "url_geo=str.format(\"https://okcountyrecords.com/results/recorded-start={}:recorded-end=2016-09-30:legal=S33+T6N+R5W:site=grady/recorded_date=desc:site_id=desc:instrument_link=desc/page-1\",\"2014-01-01\")\n",
    "url_geo"
   ]
  },
  {
   "cell_type": "code",
   "execution_count": 1,
   "metadata": {},
   "outputs": [
    {
     "ename": "NameError",
     "evalue": "name 'url_geo' is not defined",
     "output_type": "error",
     "traceback": [
      "\u001b[0;31m---------------------------------------------------------------------------\u001b[0m",
      "\u001b[0;31mNameError\u001b[0m                                 Traceback (most recent call last)",
      "\u001b[1;32m/test.ipynb Cell 10\u001b[0m line \u001b[0;36m1\n\u001b[0;32m----> <a href='vscode-notebook-cell:/test.ipynb?repo%3Dmconsulting%2Faudit#X12scmVwbw%3D%3D?line=0'>1</a>\u001b[0m \u001b[39mprint\u001b[39m(\u001b[39mlen\u001b[39m(url_geo))\n",
      "\u001b[0;31mNameError\u001b[0m: name 'url_geo' is not defined"
     ]
    }
   ],
   "source": [
    "print(len(url_geo))\n",
    "      \n"
   ]
  },
  {
   "cell_type": "code",
   "execution_count": null,
   "metadata": {},
   "outputs": [],
   "source": []
  }
 ],
 "metadata": {
  "kernelspec": {
   "display_name": "Python 3",
   "language": "python",
   "name": "python3"
  },
  "language_info": {
   "codemirror_mode": {
    "name": "ipython",
    "version": 3
   },
   "file_extension": ".py",
   "mimetype": "text/x-python",
   "name": "python",
   "nbconvert_exporter": "python",
   "pygments_lexer": "ipython3",
   "version": "3.10.12"
  },
  "orig_nbformat": 4
 },
 "nbformat": 4,
 "nbformat_minor": 2
}
