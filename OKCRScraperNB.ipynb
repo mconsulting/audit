{
 "cells": [
  {
   "cell_type": "code",
   "execution_count": 23,
   "id": "1a690629",
   "metadata": {},
   "outputs": [],
   "source": [
    "import pandas as pd\n",
    "import os\n",
    "import requests\n",
    "\n",
    "# %%\n",
    "companyname='FOURPOINT ENERGY'\n",
    "\n",
    "# %%\n",
    "\n"
   ]
  },
  {
   "cell_type": "code",
   "execution_count": null,
   "id": "0a8d6017",
   "metadata": {},
   "outputs": [],
   "source": []
  },
  {
   "cell_type": "code",
   "execution_count": 24,
   "id": "c7ea6925",
   "metadata": {},
   "outputs": [],
   "source": [
    "\n",
    "\n",
    "class HTML_Collector(object):\n",
    "    \"\"\"this will wrap a lot of the functionality of scraping the OKCountyRecords.com site\n",
    "   The availability of the consideration paid is extremely useful, but not available on the\n",
    "   API\"\"\"\n",
    "\n",
    "    def __init__(self):\n",
    "        self.session=requests.session()\n",
    "       \n",
    "        self.session.headers[\"User-Agent\"]=\"\"\n",
    "\n",
    "    def SearchWebsite(self,company,party_type=\"grantee\"):\n",
    "\n",
    "        \n",
    "        dfs=[]\n",
    "        i=1\n",
    "        query=\"https://okcountyrecords.com/results/omni=\" + str(company).replace(\" \",\"+\") + \"/recorded_date=asc:site_id=asc:instrument_link=asc/page-\" + str(i)\n",
    "        res=self.session.get(query)\n",
    "\n",
    "        dfList=pd.read_html(res.content)\n",
    "        df=dfList[0]\n",
    "        df[\"company\"]=company\n",
    "        df[\"party_type\"]=party_type\n",
    "        \n",
    "        df[\"url\"]= \"https://okcountyrecords.com/detail/\" + df[\"County\"] + \"/\" + df[\"Instrument\"]\n",
    "       # df[\"InstrumentID\"]=df[\"County\"] + \"-\" + df[\"Instrument\"]\n",
    "        #df.set_index(\"id\",inplace=True)\n",
    "        df.to_csv(company + \"_\" + str(i).zfill(3) + \".csv\",)\n",
    "        dfs.append(df)\n",
    "    \n",
    "        while res.ok:\n",
    "            try:\n",
    "                i=i+1\n",
    "                url=\"https://okcountyrecords.com/results/omni=\" + str(company).replace(\" \",\"+\") + \"/recorded_date=asc:site_id=asc:instrument_link=asc/page-\" + str(i)\n",
    "                res=self.session.get(url)\n",
    "                dfList=pd.read_html(res.content)\n",
    "                df=dfList[0]\n",
    "                df[\"Recorded\"]=pd.to_datetime(df[\"Recorded\"])\n",
    "                df[\"company\"]=company\n",
    "                # df[\"source\"]=url\n",
    "                df[\"url\"]= \"https://okcountyrecords.com/detail/\" + df[\"County\"] + \"/\" + df[\"Instrument\"]\n",
    "            \n",
    "                df.set_index(\"url\",inplace=True)\n",
    "               \n",
    "                df.to_csv(company + str(i).zfill(3) + \".csv\")\n",
    "                dfs.append(df)\n",
    "       \n",
    "                print(url)\n",
    "            except ValueError as e:\n",
    "                print(e)\n",
    "                print(\"combining \")\n",
    "                dfAll=pd.concat(dfs,ignore_index=True)\n",
    "                dfAll.drop_duplicates()\n",
    "                print(\"saving \")\n",
    "                \n",
    "                dfAll.to_csv(company + \"-ALL.csv\")\n",
    "\n",
    "                break\n",
    "   \n",
    "   \n",
    "\n",
    "\n",
    "    "
   ]
  },
  {
   "cell_type": "code",
   "execution_count": 25,
   "id": "c3d629b7",
   "metadata": {},
   "outputs": [
    {
     "name": "stdout",
     "output_type": "stream",
     "text": [
      "executing..\n",
      "err\n"
     ]
    }
   ],
   "source": [
    "\n",
    "try:\n",
    "    scraper=HTML_Collector()\n",
    "    print(\"executing..\")\n",
    "    scraper.SearchWebsite(companyname)\n",
    "    print(\"done\")\n",
    "except:\n",
    "    print('err')\n",
    "\n",
    "# %%\n",
    "def Combine(file_list,company):\n",
    "        dfs=[]\n",
    "\n",
    "        #df2=pd.DataFrame()\n",
    "    # df=pd.read_excel(\"Combined.xlsx\")\n",
    "        \n",
    "        intRowsBefore=0\n",
    "        #dfs.append(df)\n",
    "        for fn in file_list:\n",
    "        \n",
    "            #print(\"reading \" + fn)\n",
    "            df=pd.read_csv(fn)\n",
    "\n",
    "            columns_to_include=[col for col in df.columns][1:]\n",
    "            df2=df[columns_to_include]\n",
    "            # df[\"url\"]= \"https://okcountyrecords.com/detail/\" + df[\"County\"] + \"/\" + df[\"Instrument\"]       \n",
    "                \n",
    "            #df2.set_index(\"url\",inplace=True)\n",
    "            \n",
    "            print(\"appending \" + fn)\n",
    "            dfs.append(df2)\n",
    "            # os.remove(fn)\n",
    "            #dfs.append(pd.read_excel()\n",
    "        print(\"concatenating \" + str(len(dfs)) + \" dataframes\")\n",
    "        dfAll=pd.concat(dfs,ignore_index=True)\n",
    "        intRowsAfter=len(dfAll)\n",
    "        intNewRows=intRowsAfter-intRowsBefore\n",
    "        \n",
    "        dfAll.to_csv(company + \".csv\",index=False)\n",
    "        print(str(intNewRows)+ \" added for \"+ company)\n"
   ]
  },
  {
   "cell_type": "code",
   "execution_count": 26,
   "id": "97ce973b",
   "metadata": {},
   "outputs": [],
   "source": [
    "web=HTML_Collector()\n",
    "#web.SearchWebsite(companyname)"
   ]
  },
  {
   "cell_type": "code",
   "execution_count": 27,
   "id": "45470040",
   "metadata": {},
   "outputs": [
    {
     "name": "stdout",
     "output_type": "stream",
     "text": [
      "concatenating 0 dataframes\n"
     ]
    },
    {
     "ename": "ValueError",
     "evalue": "No objects to concatenate",
     "output_type": "error",
     "traceback": [
      "\u001b[0;31m---------------------------------------------------------------------------\u001b[0m",
      "\u001b[0;31mValueError\u001b[0m                                Traceback (most recent call last)",
      "\u001b[1;32m/workspaces/audit/OKCRScraperNB.ipynb Cell 6\u001b[0m line \u001b[0;36m5\n\u001b[1;32m      <a href='vscode-notebook-cell://codespaces%2Bliterate-telegram-g4qg79q9gwv294q6/workspaces/audit/OKCRScraperNB.ipynb#W4sdnNjb2RlLXJlbW90ZQ%3D%3D?line=0'>1</a>\u001b[0m file_list\u001b[39m=\u001b[39m[x \u001b[39mfor\u001b[39;00m x \u001b[39min\u001b[39;00m os\u001b[39m.\u001b[39mlistdir() \u001b[39mif\u001b[39;00m x\u001b[39m.\u001b[39mendswith(\u001b[39m'\u001b[39m\u001b[39mcsv\u001b[39m\u001b[39m'\u001b[39m)]\n\u001b[1;32m      <a href='vscode-notebook-cell://codespaces%2Bliterate-telegram-g4qg79q9gwv294q6/workspaces/audit/OKCRScraperNB.ipynb#W4sdnNjb2RlLXJlbW90ZQ%3D%3D?line=2'>3</a>\u001b[0m \u001b[39m# %%\u001b[39;00m\n\u001b[0;32m----> <a href='vscode-notebook-cell://codespaces%2Bliterate-telegram-g4qg79q9gwv294q6/workspaces/audit/OKCRScraperNB.ipynb#W4sdnNjb2RlLXJlbW90ZQ%3D%3D?line=4'>5</a>\u001b[0m Combine(file_list,companyname)\n",
      "\u001b[1;32m/workspaces/audit/OKCRScraperNB.ipynb Cell 6\u001b[0m line \u001b[0;36m3\n\u001b[1;32m     <a href='vscode-notebook-cell://codespaces%2Bliterate-telegram-g4qg79q9gwv294q6/workspaces/audit/OKCRScraperNB.ipynb#W4sdnNjb2RlLXJlbW90ZQ%3D%3D?line=30'>31</a>\u001b[0m     \u001b[39m# os.remove(fn)\u001b[39;00m\n\u001b[1;32m     <a href='vscode-notebook-cell://codespaces%2Bliterate-telegram-g4qg79q9gwv294q6/workspaces/audit/OKCRScraperNB.ipynb#W4sdnNjb2RlLXJlbW90ZQ%3D%3D?line=31'>32</a>\u001b[0m     \u001b[39m#dfs.append(pd.read_excel()\u001b[39;00m\n\u001b[1;32m     <a href='vscode-notebook-cell://codespaces%2Bliterate-telegram-g4qg79q9gwv294q6/workspaces/audit/OKCRScraperNB.ipynb#W4sdnNjb2RlLXJlbW90ZQ%3D%3D?line=32'>33</a>\u001b[0m \u001b[39mprint\u001b[39m(\u001b[39m\"\u001b[39m\u001b[39mconcatenating \u001b[39m\u001b[39m\"\u001b[39m \u001b[39m+\u001b[39m \u001b[39mstr\u001b[39m(\u001b[39mlen\u001b[39m(dfs)) \u001b[39m+\u001b[39m \u001b[39m\"\u001b[39m\u001b[39m dataframes\u001b[39m\u001b[39m\"\u001b[39m)\n\u001b[0;32m---> <a href='vscode-notebook-cell://codespaces%2Bliterate-telegram-g4qg79q9gwv294q6/workspaces/audit/OKCRScraperNB.ipynb#W4sdnNjb2RlLXJlbW90ZQ%3D%3D?line=33'>34</a>\u001b[0m dfAll\u001b[39m=\u001b[39mpd\u001b[39m.\u001b[39;49mconcat(dfs,ignore_index\u001b[39m=\u001b[39;49m\u001b[39mTrue\u001b[39;49;00m)\n\u001b[1;32m     <a href='vscode-notebook-cell://codespaces%2Bliterate-telegram-g4qg79q9gwv294q6/workspaces/audit/OKCRScraperNB.ipynb#W4sdnNjb2RlLXJlbW90ZQ%3D%3D?line=34'>35</a>\u001b[0m intRowsAfter\u001b[39m=\u001b[39m\u001b[39mlen\u001b[39m(dfAll)\n\u001b[1;32m     <a href='vscode-notebook-cell://codespaces%2Bliterate-telegram-g4qg79q9gwv294q6/workspaces/audit/OKCRScraperNB.ipynb#W4sdnNjb2RlLXJlbW90ZQ%3D%3D?line=35'>36</a>\u001b[0m intNewRows\u001b[39m=\u001b[39mintRowsAfter\u001b[39m-\u001b[39mintRowsBefore\n",
      "File \u001b[0;32m~/.local/lib/python3.10/site-packages/pandas/core/reshape/concat.py:380\u001b[0m, in \u001b[0;36mconcat\u001b[0;34m(objs, axis, join, ignore_index, keys, levels, names, verify_integrity, sort, copy)\u001b[0m\n\u001b[1;32m    377\u001b[0m \u001b[39melif\u001b[39;00m copy \u001b[39mand\u001b[39;00m using_copy_on_write():\n\u001b[1;32m    378\u001b[0m     copy \u001b[39m=\u001b[39m \u001b[39mFalse\u001b[39;00m\n\u001b[0;32m--> 380\u001b[0m op \u001b[39m=\u001b[39m _Concatenator(\n\u001b[1;32m    381\u001b[0m     objs,\n\u001b[1;32m    382\u001b[0m     axis\u001b[39m=\u001b[39;49maxis,\n\u001b[1;32m    383\u001b[0m     ignore_index\u001b[39m=\u001b[39;49mignore_index,\n\u001b[1;32m    384\u001b[0m     join\u001b[39m=\u001b[39;49mjoin,\n\u001b[1;32m    385\u001b[0m     keys\u001b[39m=\u001b[39;49mkeys,\n\u001b[1;32m    386\u001b[0m     levels\u001b[39m=\u001b[39;49mlevels,\n\u001b[1;32m    387\u001b[0m     names\u001b[39m=\u001b[39;49mnames,\n\u001b[1;32m    388\u001b[0m     verify_integrity\u001b[39m=\u001b[39;49mverify_integrity,\n\u001b[1;32m    389\u001b[0m     copy\u001b[39m=\u001b[39;49mcopy,\n\u001b[1;32m    390\u001b[0m     sort\u001b[39m=\u001b[39;49msort,\n\u001b[1;32m    391\u001b[0m )\n\u001b[1;32m    393\u001b[0m \u001b[39mreturn\u001b[39;00m op\u001b[39m.\u001b[39mget_result()\n",
      "File \u001b[0;32m~/.local/lib/python3.10/site-packages/pandas/core/reshape/concat.py:443\u001b[0m, in \u001b[0;36m_Concatenator.__init__\u001b[0;34m(self, objs, axis, join, keys, levels, names, ignore_index, verify_integrity, copy, sort)\u001b[0m\n\u001b[1;32m    440\u001b[0m \u001b[39mself\u001b[39m\u001b[39m.\u001b[39mverify_integrity \u001b[39m=\u001b[39m verify_integrity\n\u001b[1;32m    441\u001b[0m \u001b[39mself\u001b[39m\u001b[39m.\u001b[39mcopy \u001b[39m=\u001b[39m copy\n\u001b[0;32m--> 443\u001b[0m objs, keys \u001b[39m=\u001b[39m \u001b[39mself\u001b[39;49m\u001b[39m.\u001b[39;49m_clean_keys_and_objs(objs, keys)\n\u001b[1;32m    445\u001b[0m \u001b[39m# figure out what our result ndim is going to be\u001b[39;00m\n\u001b[1;32m    446\u001b[0m ndims \u001b[39m=\u001b[39m \u001b[39mself\u001b[39m\u001b[39m.\u001b[39m_get_ndims(objs)\n",
      "File \u001b[0;32m~/.local/lib/python3.10/site-packages/pandas/core/reshape/concat.py:505\u001b[0m, in \u001b[0;36m_Concatenator._clean_keys_and_objs\u001b[0;34m(self, objs, keys)\u001b[0m\n\u001b[1;32m    502\u001b[0m     objs_list \u001b[39m=\u001b[39m \u001b[39mlist\u001b[39m(objs)\n\u001b[1;32m    504\u001b[0m \u001b[39mif\u001b[39;00m \u001b[39mlen\u001b[39m(objs_list) \u001b[39m==\u001b[39m \u001b[39m0\u001b[39m:\n\u001b[0;32m--> 505\u001b[0m     \u001b[39mraise\u001b[39;00m \u001b[39mValueError\u001b[39;00m(\u001b[39m\"\u001b[39m\u001b[39mNo objects to concatenate\u001b[39m\u001b[39m\"\u001b[39m)\n\u001b[1;32m    507\u001b[0m \u001b[39mif\u001b[39;00m keys \u001b[39mis\u001b[39;00m \u001b[39mNone\u001b[39;00m:\n\u001b[1;32m    508\u001b[0m     objs_list \u001b[39m=\u001b[39m \u001b[39mlist\u001b[39m(com\u001b[39m.\u001b[39mnot_none(\u001b[39m*\u001b[39mobjs_list))\n",
      "\u001b[0;31mValueError\u001b[0m: No objects to concatenate"
     ]
    }
   ],
   "source": [
    "file_list=[x for x in os.listdir() if x.endswith('csv')]\n",
    "\n",
    "# %%\n",
    "\n",
    "Combine(file_list,companyname)"
   ]
  }
 ],
 "metadata": {
  "kernelspec": {
   "display_name": "Python 3 (ipykernel)",
   "language": "python",
   "name": "python3"
  },
  "language_info": {
   "codemirror_mode": {
    "name": "ipython",
    "version": 3
   },
   "file_extension": ".py",
   "mimetype": "text/x-python",
   "name": "python",
   "nbconvert_exporter": "python",
   "pygments_lexer": "ipython3",
   "version": "3.10.8"
  }
 },
 "nbformat": 4,
 "nbformat_minor": 5
}
