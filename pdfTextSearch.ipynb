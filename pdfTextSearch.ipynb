{
 "cells": [
  {
   "cell_type": "code",
   "execution_count": 1,
   "metadata": {},
   "outputs": [
    {
     "data": {
      "text/plain": [
       "['summary.sql',\n",
       " 'data',\n",
       " 'OKCR_INSTRUMENTS_BY_NAME.py',\n",
       " 'imported_database',\n",
       " 'CHERRY_CREEK_STATS.ods',\n",
       " 'OKCR_INSTRUMENT_DETAIL.py',\n",
       " 'mcclain',\n",
       " 'PythonUtils.py',\n",
       " '_2023-09-06 1400 Call to Florida Pension Fund.mp4',\n",
       " 'webscraper2.ods',\n",
       " '__pycache__',\n",
       " 'missingvalues.html',\n",
       " 'TractExtract.py',\n",
       " 'okcrscrape.db',\n",
       " 'okcrscrape.sqbpro',\n",
       " 'mmddyy_2_yyyymmdd.sql',\n",
       " 'Untitled-1.ipynb',\n",
       " 'regex.py',\n",
       " 'OKCR_INSTRUMENTS_BY_TRACT.py',\n",
       " 'insert_tracts',\n",
       " '2w6ZSBvOquJVAu.jpeg',\n",
       " 'Untitled-2.ipynb',\n",
       " 'okcrscrape.db.sql',\n",
       " 'OKCR_DETAIL_Scraper_bs4.ipynb',\n",
       " 'McClain.py',\n",
       " 'Instruments_with_no_party',\n",
       " 'OKCR_COMMON.py']"
      ]
     },
     "execution_count": 1,
     "metadata": {},
     "output_type": "execute_result"
    }
   ],
   "source": [
    "import PyPDF2\n",
    "import os\n",
    "os.listdir()\n",
    "\n",
    "os.chdir('/home/user/Documents/python')\n",
    "os.listdir()"
   ]
  },
  {
   "cell_type": "code",
   "execution_count": 2,
   "metadata": {},
   "outputs": [
    {
     "data": {
      "text/plain": [
       "['summary.sql',\n",
       " 'data',\n",
       " 'OKCR_INSTRUMENTS_BY_NAME.py',\n",
       " 'imported_database',\n",
       " 'CHERRY_CREEK_STATS.ods',\n",
       " 'OKCR_INSTRUMENT_DETAIL.py',\n",
       " 'mcclain',\n",
       " 'PythonUtils.py',\n",
       " '_2023-09-06 1400 Call to Florida Pension Fund.mp4',\n",
       " 'webscraper2.ods',\n",
       " '__pycache__',\n",
       " 'missingvalues.html',\n",
       " 'TractExtract.py',\n",
       " 'okcrscrape.db',\n",
       " 'okcrscrape.sqbpro',\n",
       " 'mmddyy_2_yyyymmdd.sql',\n",
       " 'Untitled-1.ipynb',\n",
       " 'regex.py',\n",
       " 'OKCR_INSTRUMENTS_BY_TRACT.py',\n",
       " 'insert_tracts',\n",
       " '2w6ZSBvOquJVAu.jpeg',\n",
       " 'Untitled-2.ipynb',\n",
       " 'okcrscrape.db.sql',\n",
       " 'OKCR_DETAIL_Scraper_bs4.ipynb',\n",
       " 'McClain.py',\n",
       " 'Instruments_with_no_party',\n",
       " 'OKCR_COMMON.py']"
      ]
     },
     "execution_count": 2,
     "metadata": {},
     "output_type": "execute_result"
    }
   ],
   "source": [
    "os.listdir()\n"
   ]
  },
  {
   "cell_type": "code",
   "execution_count": 3,
   "metadata": {},
   "outputs": [
    {
     "ename": "SyntaxError",
     "evalue": "invalid syntax (3302157813.py, line 3)",
     "output_type": "error",
     "traceback": [
      "\u001b[0;36m  Cell \u001b[0;32mIn[3], line 3\u001b[0;36m\u001b[0m\n\u001b[0;31m    pdfs=[for pdf in os.listdir('pdfs'): if pdf.endswith(\".pdf\")]\u001b[0m\n\u001b[0m          ^\u001b[0m\n\u001b[0;31mSyntaxError\u001b[0m\u001b[0;31m:\u001b[0m invalid syntax\n"
     ]
    }
   ],
   "source": [
    "os.listdir('pdfs')\n",
    "search_term='LONGPOINT'\n",
    "pdfs=[for pdf in os.listdir('pdfs'): if pdf.endswith(\".pdf\")]\n",
    "reader=PyPDF2.PdfReader('pdfs//' + f)\n",
    "\tfor page_number in range[0, reader.getNumPages]:\n",
    "\t\tcurpage = reader.getPage(page_number)\n",
    "\t\tpage_content = curpage.extractText()\n",
    "\t\tif search_term in page_content:\n",
    "\t\t\tres = {\"page\": page_number,\"content\": page_content}.append(res)"
   ]
  },
  {
   "cell_type": "code",
   "execution_count": null,
   "metadata": {},
   "outputs": [],
   "source": [
    "result_list = []\n",
    "reader = PyPDF2.PdfFileReader(file)\n",
    "for page_number in range(0, reader.numPages):\n",
    "\tpage = reader.getPage(page_number)\n",
    "\tpage_content = page.extractText()\n",
    "\tif search_term in page_content:\n",
    "\t\tresult = {\n",
    "\t\t\t\"page\": page_number,\n",
    "\t\t\t\"content\": page_content\n",
    "\t\t}\n",
    "\t\tresult_list.append(result)"
   ]
  }
 ],
 "metadata": {
  "kernelspec": {
   "display_name": "Python 3",
   "language": "python",
   "name": "python3"
  },
  "language_info": {
   "codemirror_mode": {
    "name": "ipython",
    "version": 3
   },
   "file_extension": ".py",
   "mimetype": "text/x-python",
   "name": "python",
   "nbconvert_exporter": "python",
   "pygments_lexer": "ipython3",
   "version": "3.10.12"
  },
  "orig_nbformat": 4
 },
 "nbformat": 4,
 "nbformat_minor": 2
}
