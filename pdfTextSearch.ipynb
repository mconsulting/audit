{
 "cells": [
  {
   "cell_type": "code",
   "execution_count": 15,
   "metadata": {},
   "outputs": [
    {
     "data": {
      "text/plain": [
       "['data',\n",
       " 'TRIPILO ENERGY001.csv',\n",
       " 'OKCR_Scraper_pandas_bs4.py',\n",
       " 'okcrscrape.db',\n",
       " 'Untitled-1.ipynb',\n",
       " 'Untitled-2.ipynb',\n",
       " 'okcr']"
      ]
     },
     "execution_count": 15,
     "metadata": {},
     "output_type": "execute_result"
    }
   ],
   "source": [
    "import PyPDF2\n",
    "import os\n",
    "os.listdir()\n",
    "\n",
    "os.chdir('/home/user/Documents/python')\n",
    "os.listdir()"
   ]
  },
  {
   "cell_type": "code",
   "execution_count": 16,
   "metadata": {},
   "outputs": [
    {
     "data": {
      "text/plain": [
       "['data',\n",
       " 'TRIPILO ENERGY001.csv',\n",
       " 'OKCR_Scraper_pandas_bs4.py',\n",
       " 'okcrscrape.db',\n",
       " 'Untitled-1.ipynb',\n",
       " 'Untitled-2.ipynb',\n",
       " 'okcr']"
      ]
     },
     "execution_count": 16,
     "metadata": {},
     "output_type": "execute_result"
    }
   ],
   "source": [
    "os.listdir()\n"
   ]
  },
  {
   "cell_type": "code",
   "execution_count": 17,
   "metadata": {},
   "outputs": [
    {
     "ename": "FileNotFoundError",
     "evalue": "[Errno 2] No such file or directory: 'pdfs'",
     "output_type": "error",
     "traceback": [
      "\u001b[0;31m---------------------------------------------------------------------------\u001b[0m",
      "\u001b[0;31mFileNotFoundError\u001b[0m                         Traceback (most recent call last)",
      "\u001b[1;32m/pdfTextSearch.ipynb Cell 3\u001b[0m line \u001b[0;36m1\n\u001b[0;32m----> <a href='vscode-notebook-cell:/pdfTextSearch.ipynb?repo%3Dmconsulting%2Faudit#W6scmVwbw%3D%3D?line=0'>1</a>\u001b[0m os\u001b[39m.\u001b[39;49mlistdir(\u001b[39m'\u001b[39;49m\u001b[39mpdfs\u001b[39;49m\u001b[39m'\u001b[39;49m)\n\u001b[1;32m      <a href='vscode-notebook-cell:/pdfTextSearch.ipynb?repo%3Dmconsulting%2Faudit#W6scmVwbw%3D%3D?line=1'>2</a>\u001b[0m search_term\u001b[39m=\u001b[39m\u001b[39m'\u001b[39m\u001b[39mLONGPOINT\u001b[39m\u001b[39m'\u001b[39m\n\u001b[1;32m      <a href='vscode-notebook-cell:/pdfTextSearch.ipynb?repo%3Dmconsulting%2Faudit#W6scmVwbw%3D%3D?line=2'>3</a>\u001b[0m \u001b[39mfor\u001b[39;00m f \u001b[39min\u001b[39;00m os\u001b[39m.\u001b[39mlistdir(\u001b[39m'\u001b[39m\u001b[39mpdfs\u001b[39m\u001b[39m'\u001b[39m):\n",
      "\u001b[0;31mFileNotFoundError\u001b[0m: [Errno 2] No such file or directory: 'pdfs'"
     ]
    }
   ],
   "source": [
    "os.listdir('pdfs')\n",
    "search_term='LONGPOINT'\n",
    "for f in os.listdir('pdfs'):\n",
    "\treader=PyPDF2.PdfReader('pdfs//' + f)\n",
    "\tfor page_number in range[0, reader.getNumPages]:\n",
    "\t\tcurpage = reader.getPage(page_number)\n",
    "\t\tpage_content = curpage.extractText()\n",
    "\t\tif search_term in page_content:\n",
    "\t\t\tres = {\"page\": page_number,\"content\": page_content}.append(res)"
   ]
  },
  {
   "cell_type": "code",
   "execution_count": null,
   "metadata": {},
   "outputs": [],
   "source": [
    "result_list = []\n",
    "reader = PyPDF2.PdfFileReader(file)\n",
    "for page_number in range(0, reader.numPages):\n",
    "\tpage = reader.getPage(page_number)\n",
    "\tpage_content = page.extractText()\n",
    "\tif search_term in page_content:\n",
    "\t\tresult = {\n",
    "\t\t\t\"page\": page_number,\n",
    "\t\t\t\"content\": page_content\n",
    "\t\t}\n",
    "\t\tresult_list.append(result)"
   ]
  }
 ],
 "metadata": {
  "kernelspec": {
   "display_name": "Python 3",
   "language": "python",
   "name": "python3"
  },
  "language_info": {
   "codemirror_mode": {
    "name": "ipython",
    "version": 3
   },
   "file_extension": ".py",
   "mimetype": "text/x-python",
   "name": "python",
   "nbconvert_exporter": "python",
   "pygments_lexer": "ipython3",
   "version": "3.10.12"
  },
  "orig_nbformat": 4
 },
 "nbformat": 4,
 "nbformat_minor": 2
}
