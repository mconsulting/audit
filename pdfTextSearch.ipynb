{
 "cells": [
  {
   "cell_type": "code",
   "execution_count": 5,
   "metadata": {},
   "outputs": [
    {
     "data": {
      "text/plain": [
       "['libx32',\n",
       " 'media',\n",
       " 'lib',\n",
       " 'sbin',\n",
       " 'srv',\n",
       " 'boot',\n",
       " 'tmp',\n",
       " 'opt',\n",
       " 'lib32',\n",
       " 'cdrom',\n",
       " 'root',\n",
       " 'lib64',\n",
       " 'mnt',\n",
       " 'lost+found',\n",
       " 'home',\n",
       " 'var',\n",
       " 'dev',\n",
       " 'proc',\n",
       " 'swapfile',\n",
       " 'etc',\n",
       " 'run',\n",
       " 'usr',\n",
       " 'bin',\n",
       " 'sys']"
      ]
     },
     "execution_count": 5,
     "metadata": {},
     "output_type": "execute_result"
    }
   ],
   "source": [
    "import PyPDF2\n",
    "import os\n",
    "os.listdir()"
   ]
  },
  {
   "cell_type": "code",
   "execution_count": 7,
   "metadata": {},
   "outputs": [
    {
     "data": {
      "text/plain": [
       "'.'"
      ]
     },
     "execution_count": 7,
     "metadata": {},
     "output_type": "execute_result"
    }
   ],
   "source": [
    "os.curdir\n"
   ]
  },
  {
   "cell_type": "code",
   "execution_count": 3,
   "metadata": {},
   "outputs": [
    {
     "ename": "FileNotFoundError",
     "evalue": "[Errno 2] No such file or directory: 'pdfs'",
     "output_type": "error",
     "traceback": [
      "\u001b[0;31m---------------------------------------------------------------------------\u001b[0m",
      "\u001b[0;31mFileNotFoundError\u001b[0m                         Traceback (most recent call last)",
      "\u001b[1;32m/pdfTextSearch.ipynb Cell 2\u001b[0m line \u001b[0;36m1\n\u001b[0;32m----> <a href='vscode-notebook-cell:/pdfTextSearch.ipynb?repo%3Dmconsulting%2Faudit#W1scmVwbw%3D%3D?line=0'>1</a>\u001b[0m os\u001b[39m.\u001b[39;49mlistdir(\u001b[39m'\u001b[39;49m\u001b[39mpdfs\u001b[39;49m\u001b[39m'\u001b[39;49m)\n\u001b[1;32m      <a href='vscode-notebook-cell:/pdfTextSearch.ipynb?repo%3Dmconsulting%2Faudit#W1scmVwbw%3D%3D?line=1'>2</a>\u001b[0m search_term\u001b[39m=\u001b[39m\u001b[39m'\u001b[39m\u001b[39mLONGPOINT\u001b[39m\u001b[39m'\u001b[39m\n\u001b[1;32m      <a href='vscode-notebook-cell:/pdfTextSearch.ipynb?repo%3Dmconsulting%2Faudit#W1scmVwbw%3D%3D?line=2'>3</a>\u001b[0m \u001b[39mfor\u001b[39;00m f \u001b[39min\u001b[39;00m os\u001b[39m.\u001b[39mlistdir(\u001b[39m'\u001b[39m\u001b[39mpdfs\u001b[39m\u001b[39m'\u001b[39m):\n",
      "\u001b[0;31mFileNotFoundError\u001b[0m: [Errno 2] No such file or directory: 'pdfs'"
     ]
    }
   ],
   "source": [
    "os.listdir('pdfs')\n",
    "search_term='LONGPOINT'\n",
    "for f in os.listdir('pdfs'):\n",
    "\treader=PyPDF2.PdfReader('pdfs//' + f)\n",
    "\tfor page_number in range[0, reader.getNumPages]:\n",
    "\t\tcurpage = reader.getPage(page_number)\n",
    "\t\tpage_content = curpage.extractText()\n",
    "\t\tif search_term in page_content:\n",
    "\t\t\tres = {\"page\": page_number,\"content\": page_content}.append(res)"
   ]
  },
  {
   "cell_type": "code",
   "execution_count": null,
   "metadata": {},
   "outputs": [],
   "source": [
    "result_list = []\n",
    "\treader = PyPDF2.PdfFileReader(file)\n",
    "\tfor page_number in range(0, reader.numPages):\n",
    "\t     page = reader.getPage(page_number)\n",
    "\t     page_content = page.extractText()\n",
    "\t     if search_term in page_content:\n",
    "\t          result = {\n",
    "\t               \"page\": page_number,\n",
    "\t               \"content\": page_content\n",
    "\t          } result_list.append(result)"
   ]
  }
 ],
 "metadata": {
  "kernelspec": {
   "display_name": "Python 3",
   "language": "python",
   "name": "python3"
  },
  "language_info": {
   "codemirror_mode": {
    "name": "ipython",
    "version": 3
   },
   "file_extension": ".py",
   "mimetype": "text/x-python",
   "name": "python",
   "nbconvert_exporter": "python",
   "pygments_lexer": "ipython3",
   "version": "3.10.12"
  },
  "orig_nbformat": 4
 },
 "nbformat": 4,
 "nbformat_minor": 2
}
