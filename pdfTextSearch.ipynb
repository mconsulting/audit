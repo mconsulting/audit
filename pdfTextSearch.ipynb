{
 "cells": [
  {
   "cell_type": "code",
   "execution_count": 3,
   "metadata": {},
   "outputs": [],
   "source": [
    "import PyPDF2\n",
    "import os"
   ]
  },
  {
   "cell_type": "code",
   "execution_count": 6,
   "metadata": {},
   "outputs": [
    {
     "ename": "TabError",
     "evalue": "inconsistent use of tabs and spaces in indentation (2141729754.py, line 7)",
     "output_type": "error",
     "traceback": [
      "\u001b[0;36m  Cell \u001b[0;32mIn[6], line 7\u001b[0;36m\u001b[0m\n\u001b[0;31m    curpage = reader.getPage(page_number)\u001b[0m\n\u001b[0m    ^\u001b[0m\n\u001b[0;31mTabError\u001b[0m\u001b[0;31m:\u001b[0m inconsistent use of tabs and spaces in indentation\n"
     ]
    }
   ],
   "source": [
    "os.listdir('pdfs')\n",
    "search_term='LONGPOINT'\n",
    "for f in os.listdir('pdfs'):\n",
    "    reader=PyPDF2.PdfReader('pdfs//' + f)\n",
    "\tfor page_number in range[0, reader.getNumPages]:\n",
    "                curpage = reader.getPage(page_number)\n",
    "\t\tpage_content = curpage.extractText()\n",
    "\t\tif search_term in page_content:\n",
    "\t\tres = {\"page\": page_number,\"content\": page_content}\n",
    "\t\t.append(res)"
   ]
  },
  {
   "cell_type": "code",
   "execution_count": null,
   "metadata": {},
   "outputs": [],
   "source": [
    "result_list = []\n",
    "\treader = PyPDF2.PdfFileReader(file)\n",
    "\tfor page_number in range(0, reader.numPages):\n",
    "\t     page = reader.getPage(page_number)\n",
    "\t     page_content = page.extractText()\n",
    "\t     if search_term in page_content:\n",
    "\t          result = {\n",
    "\t               \"page\": page_number,\n",
    "\t               \"content\": page_content\n",
    "\t          } result_list.append(result)"
   ]
  }
 ],
 "metadata": {
  "kernelspec": {
   "display_name": "Python 3",
   "language": "python",
   "name": "python3"
  },
  "language_info": {
   "codemirror_mode": {
    "name": "ipython",
    "version": 3
   },
   "file_extension": ".py",
   "mimetype": "text/x-python",
   "name": "python",
   "nbconvert_exporter": "python",
   "pygments_lexer": "ipython3",
   "version": "3.10.8"
  },
  "orig_nbformat": 4
 },
 "nbformat": 4,
 "nbformat_minor": 2
}
